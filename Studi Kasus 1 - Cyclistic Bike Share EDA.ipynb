{
  "nbformat": 4,
  "nbformat_minor": 0,
  "metadata": {
    "colab": {
      "provenance": []
    },
    "kernelspec": {
      "name": "ir",
      "display_name": "R"
    },
    "language_info": {
      "name": "R"
    }
  },
  "cells": [
    {
      "cell_type": "markdown",
      "source": [
        "# **`Perkenalan`**\n",
        "\n",
        "Ini adalah proyek Capstone Google Data Analytics saya di mana saya akan bekerja sebagai analis data junior. Saya akan menggunakan R untuk analisis karena keunggulannya dalam komputasi dan analisis statistik."
      ],
      "metadata": {
        "id": "A7-z-8N74Y_P"
      }
    },
    {
      "cell_type": "markdown",
      "source": [
        "# **`Tentang Perusahaan`**\n",
        "\n",
        "Pada tahun 2016, Cyclistic meluncurkan penawaran berbagi sepeda yang sukses. Sejak itu, program tersebut telah berkembang menjadi 5.824 armada sepeda yang dilacak secara geografis dan dikunci ke dalam jaringan 692 stasiun di seluruh Chicago. Sepeda dapat dibuka kuncinya dari satu stasiun dan dikembalikan ke stasiun lain di sistem kapan saja.\n",
        "Sampai saat ini, strategi pemasaran Cyclistic mengandalkan membangun kesadaran umum dan menarik segmen konsumen yang luas. Salah satu pendekatan yang membantu mewujudkan hal ini adalah fleksibilitas rencana penetapan harganya: tiket sekali jalan, tiket sehari penuh, dan keanggotaan tahunan. Pelanggan yang membeli tiket sekali jalan atau sehari penuh disebut sebagai penumpang biasa. Pelanggan yang membeli keanggotaan tahunan adalah anggota Cyclistic.\n",
        "\n",
        "Analis keuangan Cycistic telah menyimpulkan bahwa anggota tahunan jauh lebih menguntungkan daripada pengendara biasa. Meskipun fleksibilitas harga membantu Cyclistic menarik lebih banyak pelanggan, Moreno percaya bahwa memaksimalkan jumlah anggota tahunan akan menjadi kunci pertumbuhan di masa depan. Daripada membuat kampanye pemasaran yang menargetkan semua pelanggan baru, Moreno percaya ada peluang yang sangat bagus untuk mengubah pengendara biasa menjadi anggota. Dia mencatat bahwa pengendara kasual sudah mengetahui program Cyclistic dan telah memilih Cyclistic untuk kebutuhan mobilitas mereka.\n",
        "\n",
        "Moreno telah menetapkan tujuan yang jelas: Merancang strategi pemasaran yang ditujukan untuk mengubah pengendara biasa menjadi anggota tahunan. Namun, untuk melakukan itu, tim analis pemasaran perlu lebih memahami bagaimana perbedaan anggota tahunan dan pengendara biasa, mengapa pengendara biasa akan membeli keanggotaan, dan bagaimana media digital dapat memengaruhi taktik pemasaran mereka. Moreno dan timnya\n",
        "tertarik untuk menganalisis data perjalanan sepeda sejarah Cyclistic untuk mengidentifikasi tren."
      ],
      "metadata": {
        "id": "V13oDYsv5Rev"
      }
    },
    {
      "cell_type": "markdown",
      "source": [
        "# **`Skenario`**\n",
        "\n",
        "The Cycistic adalah perusahaan berbagi sepeda di Chicago. Direktur pemasaran percaya bahwa kesuksesan masa depan perusahaan bergantung pada memaksimalkan jumlah keanggotaan tahunan. Oleh karena itu, tim ingin memahami bagaimana pengendara kasual dan anggota tahunan menggunakan sepeda Cyclistic secara berbeda. Dari wawasan ini, tim akan merancang strategi pemasaran baru untuk mengubah pengendara biasa menjadi anggota tahunan. Tapi pertama-tama, eksekutif Cyclistic harus menyetujui rekomendasi, sehingga mereka harus didukung dengan wawasan data yang menarik dan visualisasi data profesional\n"
      ],
      "metadata": {
        "id": "XTntHxIp5R1O"
      }
    },
    {
      "cell_type": "markdown",
      "source": [
        "## **`Tahap Analisis Data Diikuti`**\n",
        "\n",
        "*   Bertanya\n",
        "*   Mempersiapkan\n",
        "*   Proses\n",
        "*   Menganalisa\n",
        "*   Membagikan\n",
        "*   Bertindak"
      ],
      "metadata": {
        "id": "PzIFV5Bj5SNH"
      }
    },
    {
      "cell_type": "markdown",
      "source": [
        "**Bertanya**\n",
        "\n",
        "Bagaimana cara anggota tahunan dan pengendara biasa menggunakan sepeda Cyclistic secara berbeda?\n",
        "\n",
        "Tugas Utama\n",
        "\n",
        "1.   Identifikasi tugas bisnis\n",
        "  *   Perbedaan penggunaan sepeda antara anggota Tahunan dan pengendara biasa.\n",
        "\n",
        "2.   Pertimbangkan pemangku kepentingan utama\n",
        "  *   Direktur pemasaran (Lily Moreno) dan tim Eksekutif.\n",
        "\n",
        "Dapat dikirim\n",
        "1.   Pernyataan yang jelas tentang tugas bisnis\n",
        "  *   Perbedaan penggunaan sepeda antara anggota Tahunan dan pengendara biasa.\n"
      ],
      "metadata": {
        "id": "2NoDJCWq5Sbu"
      }
    },
    {
      "cell_type": "markdown",
      "source": [
        "**Mempersiapkan**\n",
        "\n",
        "Saya telah mengunduh data perjalanan sepeda 3 bulan sebelumnya [di sini](*https://divvy-tripdata.s3.amazonaws.com/index.html*). Data telah disediakan oleh Motivate International Inc. [di bawah lisensi ini.](*https://ride.divvybikes.com/data-license-agreement*)\n",
        "\n",
        "Tugas utama\n",
        "\n",
        "1.   Unduh data dan simpan dengan benar\n",
        "  *   Data telah diunduh dari perusahaan sepeda\n",
        "2.   Identifikasi bagaimana hal itu diatur\n",
        "  *   Data dalam format .CSV disusun dalam baris dan data\n",
        "  *   Setiap file CSV telah saya ganti namanya\n",
        "3.   Sortir dan filter data\n",
        "  *   Data telah diurutkan berdasarkan ride_id dan disaring untuk memeriksa kesalahan ejaan\n",
        "4.   Tentukan kredibilitas data\n",
        "  *   Datanya adalah ROCCC yaitu Terpercaya, Asli, Komprehensif, Terkini, Dikutip\n",
        "  *   Saya memeriksa kredensial dan afiliasi penulis\n",
        "\n",
        "Dapat dikirim\n",
        "\n",
        "  *   Deskripsi semua sumber data yang digunakan\n",
        "  *   Data 3 bulan dari Agustus 2022 - September 2022 dari perusahaan Cyclistic"
      ],
      "metadata": {
        "id": "rCdhAOAV8PVU"
      }
    },
    {
      "cell_type": "markdown",
      "source": [
        "**Proses**\n",
        "\n",
        "Tugas utama\n",
        "\n",
        "1.   Periksa data apakah ada kesalahan.\n",
        "  *   Data diperiksa apakah ada kesalahan, kosong, spasi, nilai nol\n",
        "\n",
        "2.   Pilih alat Anda.\n",
        "  *   Studio R\n",
        "\n",
        "Dapat dikirim\n",
        "\n",
        "1.   Dokumentasi setiap pembersihan atau manipulasi data\n",
        "  *   Data telah diperiksa apakah ada kesalahan, kosong, spasi, nilai nol.\n",
        "  *   Kolom bernama “ride_length.” telah dibuat dengan mengurangi kolom “started_at” dari kolom “ended_at” (misalnya, =D2-C2) dan memformat sebagai HH:MM:SS menggunakan Format > Cells > Time > 37:30:55."
      ],
      "metadata": {
        "id": "zAzQRiSV8QMk"
      }
    },
    {
      "cell_type": "markdown",
      "source": [
        "**Menganalisa**"
      ],
      "metadata": {
        "id": "y0onVRPPAwiL"
      }
    },
    {
      "cell_type": "markdown",
      "source": [
        "1. Install dan Load Packages"
      ],
      "metadata": {
        "id": "YMs1gjbBA6DA"
      }
    },
    {
      "cell_type": "code",
      "execution_count": 1,
      "metadata": {
        "colab": {
          "base_uri": "https://localhost:8080/"
        },
        "id": "_FSjEItR4RDe",
        "outputId": "c466bbdb-0d08-4fd6-af7f-3b1877c4c4ab"
      },
      "outputs": [
        {
          "output_type": "stream",
          "name": "stderr",
          "text": [
            "Installing package into ‘/usr/local/lib/R/site-library’\n",
            "(as ‘lib’ is unspecified)\n",
            "\n"
          ]
        }
      ],
      "source": [
        "install.packages(\"tidyverse\")"
      ]
    }
  ]
}